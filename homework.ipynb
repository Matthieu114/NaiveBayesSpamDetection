{
 "cells": [
  {
   "cell_type": "code",
   "execution_count": 1,
   "metadata": {},
   "outputs": [],
   "source": [
    "# divide the data into training and test sets\n",
    "\n",
    "import numpy as np\n",
    "import pandas as pd\n",
    "import matplotlib.pyplot as plt\n",
    "from collections import Counter\n",
    "df = pd.read_csv('./messages.txt', sep='\\t', names=[\"label\", \"message\"])\n",
    "\n"
   ]
  },
  {
   "cell_type": "code",
   "execution_count": 2,
   "metadata": {},
   "outputs": [],
   "source": [
    "# divie the data in two groups: training and test examples\n",
    "\n",
    "# split data into train and test sets without using sklearn\n",
    "# 80% of the data is used for training and 20% for testing\n",
    "# the data is shuffled before splitting\n",
    "# X_train and X_test are the messages\n",
    "# y_train and y_test are the labels\n",
    "\n",
    "\n",
    "# shuffled_df = df.sample(frac=1)\n",
    "train_size = int(0.8 * len(df))\n",
    "\n",
    "# get everything up to the train_size (not included)\n",
    "X_train = df['message'][:train_size]\n",
    "y_train = df['label'][:train_size]\n",
    "\n",
    "#get everything after the train_size (included)\n",
    "X_test = df['message'][train_size:]\n",
    "y_test = df['label'][train_size:]\n",
    "\n"
   ]
  },
  {
   "cell_type": "code",
   "execution_count": 3,
   "metadata": {},
   "outputs": [],
   "source": [
    "# Parse both the training and test examples to generate both the spam and ham data sets\n",
    "# The spam data set contains all the spam messages in the training set\n",
    "# The ham data set contains all the ham messages in the training set\n",
    "\n",
    "spam = []\n",
    "ham = []\n",
    "\n",
    "for i in range(len(X_train)):\n",
    "    if y_train.iloc[i] == 'spam':\n",
    "        spam.append(X_train.iloc[i])\n",
    "    else:\n",
    "        ham.append(X_train.iloc[i])\n",
    "\n",
    "for i in range(len(X_test)):\n",
    "    if y_test.iloc[i] == 'spam':\n",
    "        spam.append(X_train.iloc[i])\n",
    "    else:\n",
    "        ham.append(X_train.iloc[i])        \n",
    "\n",
    "\n",
    "\n",
    "\n"
   ]
  },
  {
   "cell_type": "code",
   "execution_count": 4,
   "metadata": {},
   "outputs": [],
   "source": [
    "# Generate a dictionary from the training data \n",
    "\n",
    "def make_Dictionary(data):\n",
    "    all_words = []    \n",
    "    for i in range(len(data)):\n",
    "        words = data.iloc[i].split()\n",
    "        all_words += words\n",
    "    # create a dictionary of words with their frequency frequency\n",
    "    dictionary = Counter(all_words)\n",
    "\n",
    "    for item in list(dictionary):\n",
    "    # del words that are not alphabetic\n",
    "    # del words that are of length 1\n",
    "        if item.isalpha() == False:\n",
    "            del dictionary[item]\n",
    "        elif len(item) == 1:\n",
    "            del dictionary[item]\n",
    "    # return the 3000 first most common words               \n",
    "    dictionary = dictionary.most_common(3000)\n",
    "    return dictionary\n",
    "\n"
   ]
  },
  {
   "cell_type": "code",
   "execution_count": 5,
   "metadata": {},
   "outputs": [],
   "source": [
    "dictionnary = make_Dictionary(X_train)"
   ]
  },
  {
   "cell_type": "code",
   "execution_count": 6,
   "metadata": {},
   "outputs": [],
   "source": [
    "# Extract features from both the training data and test data\n",
    "\n",
    "def extract_features(data):\n",
    "    features_matrix = np.zeros((len(data), 3000))\n",
    "    for i,line in enumerate(data):\n",
    "        words = line.split()\n",
    "        for word in words:\n",
    "            wordID = 0\n",
    "            # for each word, check if it is in the dictionary\n",
    "            for j, d in enumerate(dictionnary):\n",
    "                # if the most common word in the dictionary is the word we are checking\n",
    "                if d[0] == word:\n",
    "                    # set the wordID to the position of the word in the dictionary\n",
    "                    wordID = j\n",
    "                    features_matrix[i, wordID] = words.count(word)\n",
    "             # increment the docID to go to the next email in the features_matrix                    \n",
    "    return features_matrix"
   ]
  },
  {
   "cell_type": "code",
   "execution_count": 7,
   "metadata": {},
   "outputs": [],
   "source": [
    "train_matrix = extract_features(X_train)\n",
    "test_matrix = extract_features(X_test)"
   ]
  },
  {
   "cell_type": "markdown",
   "metadata": {},
   "source": [
    "# Fitting the data"
   ]
  },
  {
   "cell_type": "code",
   "execution_count": 8,
   "metadata": {},
   "outputs": [],
   "source": [
    "#calculate prior probability of spam and ham\n",
    "\n",
    "prior_spam = len(spam)/(len(spam)+len(ham))\n",
    "prior_ham = len(ham)/(len(spam)+len(ham))\n",
    "\n",
    "\n",
    "# get the test and train data labels\n",
    "train_labels = np.zeros(len(y_train))\n",
    "test_labels = np.zeros(len(y_test))\n",
    "\n",
    "# prepare training set\n",
    "for i in range(len(y_train)):\n",
    "    if y_train.iloc[i] == 'ham':\n",
    "        train_labels[i] = 0\n",
    "    else : \n",
    "        train_labels[i] = 1\n",
    "        \n",
    "train_matrix = extract_features(X_train)\n",
    "\n",
    "# prepare the test set \n",
    "for i in range(len(y_test)):\n",
    "    if y_test.iloc[i] == 'ham':\n",
    "        test_labels[i] = 0\n",
    "    else : \n",
    "        test_labels[i] = 1\n",
    "\n",
    "test_matrix = extract_features(X_test)\n",
    "\n",
    "\n",
    "\n",
    "# we have a list of all the spam and ham words\n",
    "# the train matrix dataframe contains the number of times each word appears in each message\n",
    "# using the train labels, we can calculate the likelihood of each word in the spam and ham messages\n",
    "# by seperating the the train matrix into spam and ham individual dataframes\n",
    "spam_train_matrix = []\n",
    "ham_train_matrix = []\n",
    "\n",
    "for i, word in enumerate(train_matrix):\n",
    "    if(train_labels[i] == 1):\n",
    "        spam_train_matrix.append(word)\n",
    "    else:\n",
    "        ham_train_matrix.append(word)\n",
    "\n",
    "\n",
    "spam_train_matrix = np.array(spam_train_matrix)  \n",
    "ham_train_matrix = np.array(ham_train_matrix)\n",
    "\n",
    "# function that returns an array of the likelihood of each word in the message being spam or ham\n",
    "def calculate_likelihood(train_matrix):\n",
    "    # p(f1,f2,f3,...|spam) = p(f1|spam) * p(f2|spam) * p(f3|spam)\n",
    "    # p(word|spam) = (number of times word appears in spam messages) / (number of words in spam messages)\n",
    "    # we add 1 to the numerator and 3000 to the denominator to avoid 0 probability (laplace smoothing)\n",
    "    # 3000 because there are 3000 words in the dictionary (add 1 for each)\n",
    "    return (train_matrix.sum(axis = 0) + 1) / (train_matrix.sum() + 3000)\n",
    "        \n",
    "        \n",
    "\n",
    "# p(f1,f2,f3,...|ham) = p(f1|ham) * p(f2|ham) * p(f3|ham)\n",
    "# p(word|ham) = (number of times word appears in ham messages) / (number of words in ham messages)\n",
    "        \n",
    "spam_likelihoods = calculate_likelihood(spam_train_matrix)\n",
    "ham_likelihoods = calculate_likelihood(ham_train_matrix)\n"
   ]
  },
  {
   "cell_type": "markdown",
   "metadata": {},
   "source": [
    "# Predict data with test matrix"
   ]
  },
  {
   "cell_type": "code",
   "execution_count": 9,
   "metadata": {},
   "outputs": [
    {
     "name": "stdout",
     "output_type": "stream",
     "text": [
      "[[865   9]\n",
      " [ 13 113]]\n",
      "0.978\n"
     ]
    }
   ],
   "source": [
    "from sklearn.metrics import confusion_matrix\n",
    "from sklearn.metrics import accuracy_score\n",
    "\n",
    "def predict(matrix):\n",
    "    results = []\n",
    "    for j,message in enumerate(matrix):\n",
    "        spam_like = 1\n",
    "        ham_like = 1\n",
    "        for i, word_freq in enumerate(message):\n",
    "            if word_freq != 0:\n",
    "                spam_like *= pow(spam_likelihoods[i], word_freq)\n",
    "                ham_like *= pow(ham_likelihoods[i], word_freq)\n",
    "        if(spam_like * prior_spam > ham_like * prior_ham):\n",
    "            results.append(1)\n",
    "        else:\n",
    "            results.append(0)\n",
    "    return results\n",
    "\n",
    "\n",
    "results2 = predict(test_matrix)\n",
    "\n",
    "print(confusion_matrix(test_labels, results2))\n",
    "print(accuracy_score(test_labels, results2))"
   ]
  },
  {
   "cell_type": "markdown",
   "metadata": {},
   "source": [
    "### Test our results by comparing with the sklearn methods "
   ]
  },
  {
   "cell_type": "code",
   "execution_count": 10,
   "metadata": {},
   "outputs": [
    {
     "name": "stdout",
     "output_type": "stream",
     "text": [
      "[[865   9]\n",
      " [ 13 113]]\n"
     ]
    }
   ],
   "source": [
    "# implement the Naive Bayes \n",
    "from sklearn.naive_bayes import MultinomialNB\n",
    "\n",
    "\n",
    "model = MultinomialNB()\n",
    "\n",
    "\n",
    "# train the model\n",
    "model.fit(train_matrix, train_labels)\n",
    "\n",
    "\n",
    "result = model.predict(test_matrix)\n",
    "\n",
    "# we can see that our results are the same as for sklearn\n",
    "print(confusion_matrix(test_labels, result))"
   ]
  },
  {
   "cell_type": "markdown",
   "metadata": {},
   "source": [
    "# Class implementation (not finished)"
   ]
  },
  {
   "cell_type": "code",
   "execution_count": 11,
   "metadata": {},
   "outputs": [],
   "source": [
    "# train the model using Naive Bayes classifier\n",
    "\n",
    "#import multinoial Naive Bayes model from sklearn\n",
    "\n",
    "# we create a Naive Bayes class \n",
    "\n",
    "class MultinomialNB:\n",
    "    spam_train_matrix = []\n",
    "    ham_train_matrix = []\n",
    "    prior_spam = 1\n",
    "    prior_ham  = 1\n",
    "    # create class constructor\n",
    "    \n",
    "    def __init__(self):\n",
    "       self.prior_spam = len(spam)/(len(spam)+len(ham))\n",
    "       self.prior_ham = len(ham)/(len(spam)+len(ham))\n",
    "      \n",
    "    #     \n",
    "\n",
    "    \n",
    "    def fit(self,X,y):\n",
    "        for i, word in enumerate(X):\n",
    "            if(y[i] == 1):\n",
    "                self.spam_train_matrix.append(word)\n",
    "            else:\n",
    "                self.ham_train_matrix.append(word)\n",
    "\n",
    "        spam_train_matrix = np.array(spam_train_matrix) + 1 \n",
    "        ham_train_matrix = np.array(ham_train_matrix) + 1\n",
    "    \n",
    "\n",
    "    def predict(self,X):\n",
    "        results = []\n",
    "        for j,message in enumerate(X):\n",
    "            spam_like = 1\n",
    "            ham_like = 1\n",
    "            for i, word_freq in enumerate(message):\n",
    "                if word_freq != 0:\n",
    "                    spam_like *= pow(self.spam_likelihoods[i], word_freq)\n",
    "                    ham_like *= pow(self.ham_likelihoods[i], word_freq)\n",
    "            if(spam_like * prior_spam > ham_like * prior_ham):\n",
    "                results.append(1)\n",
    "            else:\n",
    "                results.append(0)\n",
    "        return results\n",
    "        \n",
    "\n",
    "    \n"
   ]
  }
 ],
 "metadata": {
  "kernelspec": {
   "display_name": "Python 3.10.7 64-bit",
   "language": "python",
   "name": "python3"
  },
  "language_info": {
   "codemirror_mode": {
    "name": "ipython",
    "version": 3
   },
   "file_extension": ".py",
   "mimetype": "text/x-python",
   "name": "python",
   "nbconvert_exporter": "python",
   "pygments_lexer": "ipython3",
   "version": "3.10.7"
  },
  "orig_nbformat": 4,
  "vscode": {
   "interpreter": {
    "hash": "aee8b7b246df8f9039afb4144a1f6fd8d2ca17a180786b69acc140d282b71a49"
   }
  }
 },
 "nbformat": 4,
 "nbformat_minor": 2
}
